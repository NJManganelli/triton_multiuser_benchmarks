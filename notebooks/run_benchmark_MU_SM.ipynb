{
 "cells": [
  {
   "cell_type": "code",
   "execution_count": null,
   "id": "7cc4a7a1-2167-4ee2-9e79-acc1d10d70e0",
   "metadata": {
    "tags": []
   },
   "outputs": [],
   "source": [
    "import os\n",
    "from distributed import Client\n",
    "from lpcjobqueue import LPCCondorCluster\n",
    "import awkward as ak\n",
    "import numpy as np\n",
    "import torch\n",
    "from utils.mlbench import SimpleWorkLog\n",
    "from utils.mlbench import process_function, create_local_pnmodel, get_triton_client, run_inference_pnmodel, generate_pseudodata_from_seed\n",
    "import time\n",
    "import pathlib\n",
    "#Can use ship_env and the .triton_env with LPCCondorCluster, but here's an alternative that should work for other cluster types\n",
    "from distributed.diagnostics.plugin import UploadDirectory"
   ]
  },
  {
   "cell_type": "code",
   "execution_count": null,
   "id": "322e9b8f-a1b9-4b57-b235-78c877f06199",
   "metadata": {
    "tags": []
   },
   "outputs": [],
   "source": [
    "cluster = LPCCondorCluster(cores=2, \n",
    "                           memory=\"7.5GB\", \n",
    "                           disk=\"4GB\", \n",
    "                           log_directory='/uscmst1b_scratch/lpc1/3DayLifetime/'+str(os.getlogin),\n",
    "                           #ship_env=False,\n",
    "                           #death_timeout=240,\n",
    "                           #schedule_options={\"dashboard_address\": f\":{__get_port():d}\"},\n",
    "                          )"
   ]
  },
  {
   "cell_type": "code",
   "execution_count": null,
   "id": "b28c42a9-7e10-4021-924b-507d17ec0591",
   "metadata": {
    "tags": []
   },
   "outputs": [],
   "source": [
    "cluster.adapt(minimum=50, maximum=50)"
   ]
  },
  {
   "cell_type": "code",
   "execution_count": null,
   "id": "f179a1c1-a5f4-477f-ae46-ee79fb08c918",
   "metadata": {
    "tags": []
   },
   "outputs": [],
   "source": [
    "cluster.workers"
   ]
  },
  {
   "cell_type": "code",
   "execution_count": null,
   "id": "f79a33d6-70a6-4587-b2bb-c7abd0e30007",
   "metadata": {
    "tags": []
   },
   "outputs": [],
   "source": [
    "client = Client(cluster)\n",
    "client"
   ]
  },
  {
   "cell_type": "code",
   "execution_count": null,
   "id": "f14dfcd7-a133-4e02-b16a-6b40705ba155",
   "metadata": {
    "tags": []
   },
   "outputs": [],
   "source": [
    "client.register_worker_plugin(UploadDirectory(\"../utils\",restart=True,update_path=True), nanny=True) "
   ]
  },
  {
   "cell_type": "code",
   "execution_count": null,
   "id": "792f0964-91a8-46bd-852a-36b9d9170c43",
   "metadata": {
    "tags": []
   },
   "outputs": [],
   "source": [
    "client.register_worker_plugin(UploadDirectory(\"../models\",restart=True,update_path=True), nanny=True)  "
   ]
  },
  {
   "cell_type": "code",
   "execution_count": null,
   "id": "c37269d9-6e89-4e09-9558-190bba792464",
   "metadata": {
    "tags": []
   },
   "outputs": [],
   "source": [
    "def test_structure(x):\n",
    "    import os\n",
    "    import sys\n",
    "    import pathlib\n",
    "    test = pathlib.Path(\"/srv/utils/\")\n",
    "    success = False\n",
    "    try:\n",
    "        from srv.utils.mlbench import SimpleWorkLog\n",
    "        success = True\n",
    "    except:\n",
    "        pass\n",
    "    success2 = False\n",
    "    try:\n",
    "        from utils.mlbench import SimpleWorkLog\n",
    "        success2 = True\n",
    "    except:\n",
    "        pass\n",
    "    success3 = False\n",
    "    try:\n",
    "        from mlbench import SimpleWorkLog\n",
    "        success3 = True\n",
    "    except:\n",
    "        pass\n",
    "    \n",
    "    return os.environ, sys.path, success, success2, success3, list(test.iterdir())\n",
    "\n",
    "def test_triton_dask(worker):\n",
    "    x = get_triton_client()\n",
    "    if x is not None:\n",
    "        return \"success\"\n",
    "    else:\n",
    "        return type(x)\n",
    "\n",
    "def print_cluster_info(cluster):\n",
    "    for key in cluster.scheduler_info.keys():\n",
    "        if key not in [\"workers\"]:\n",
    "            print(key, cluster.scheduler_info[key])\n",
    "        else:\n",
    "            print(key)\n",
    "            for address, details in cluster.scheduler_info[key].items():\n",
    "                print(\"\\t\", address)\n",
    "                maxdkey = max([len(dkey) for dkey in details])\n",
    "                for dkey, dval in details.items():\n",
    "                    diff = maxdkey - len(dkey)\n",
    "                    extras = \" \"*diff\n",
    "                    extras += \"  =\\t\"    \n",
    "                    print(\"\\t\\t\", dkey, extras, dval)\n",
    "def test_workers(x):\n",
    "    results = {}\n",
    "    try:\n",
    "        import os\n",
    "        results[\"pid\"] = os.getpid()\n",
    "    except:\n",
    "        results[\"pid\"] = False\n",
    "        \n",
    "    import socket\n",
    "    try:\n",
    "        import socket\n",
    "        results[\"hostname\"] = socket.gethostname()\n",
    "    except:\n",
    "        results[\"hostname\"] = False\n",
    "        \n",
    "    try:\n",
    "        from utils.mlbench import SimpleWorkLog\n",
    "        results[\"utils\"] = True\n",
    "    except:\n",
    "        results[\"utils\"] = False\n",
    "        \n",
    "    try:\n",
    "        from utils.mlbench import get_triton_client\n",
    "        _ = get_triton_client()\n",
    "        results[\"triton\"] = True\n",
    "    except:\n",
    "        results[\"triton\"] = False\n",
    "        \n",
    "    try:\n",
    "        from utils.mlbench import create_local_pnmodel\n",
    "        _ = create_local_pnmodel()\n",
    "        results[\"local\"] = True\n",
    "    except:\n",
    "        results[\"local\"] = False\n",
    "    \n",
    "    return results"
   ]
  },
  {
   "cell_type": "code",
   "execution_count": null,
   "id": "6fe14ea2-8bf9-4e9e-a561-6415dafb0864",
   "metadata": {
    "tags": []
   },
   "outputs": [],
   "source": [
    "#Test the workers can perform basic functions\n",
    "test = client.gather(client.map(test_workers, range(len(cluster.workers))))"
   ]
  },
  {
   "cell_type": "code",
   "execution_count": null,
   "id": "9c6be47b-9118-4bb0-9fb8-c33b83b8d7e0",
   "metadata": {
    "tags": []
   },
   "outputs": [],
   "source": [
    "unique_workers = {}\n",
    "for r in test:\n",
    "    unique_workers[r['hostname']+str(r['pid'])] = r\n",
    "n_workers = len(unique_workers.keys())\n",
    "n_utils_imports = sum([r['utils'] for r in unique_workers.values()])\n",
    "n_triton_functioning = sum([r['triton'] for r in unique_workers.values()])\n",
    "n_local_functioning = sum([r['local'] for r in unique_workers.values()])\n",
    "n_workers, n_utils_imports, n_triton_functioning, n_local_functioning"
   ]
  },
  {
   "cell_type": "code",
   "execution_count": null,
   "id": "03499eb7-cf02-49d4-905d-0e662f3e0e55",
   "metadata": {
    "tags": []
   },
   "outputs": [],
   "source": [
    "n_workers = 100\n",
    "long_multiplier = 10\n",
    "#seeds, #pseudo-events, batchsize, use triton (True/False)\n",
    "workargstriton = [range(n_workers), [1000]*n_workers, [1000]*n_workers, [True]*n_workers]\n",
    "workargslocal = [range(n_workers), [1000]*n_workers, [250]*n_workers, [False]*n_workers]\n",
    "workargstritonlong =  [range(n_workers*long_multiplier), \n",
    "                      [9999]*n_workers*long_multiplier, \n",
    "                      [1000]*n_workers*long_multiplier, \n",
    "                      [True]*n_workers*long_multiplier]"
   ]
  },
  {
   "cell_type": "code",
   "execution_count": null,
   "id": "9bae7f94-a3d8-4588-87e6-eb77dd1a662e",
   "metadata": {
    "tags": []
   },
   "outputs": [],
   "source": [
    "with_outputs, inf_worklogs, errors = run_inference_pnmodel(\n",
    "    generate_pseudodata_from_seed(983, 1000), \n",
    "    get_triton_client(), \n",
    "    batchsize=1000, \n",
    "    triton=True, \n",
    "    worklog=SimpleWorkLog\n",
    ")"
   ]
  },
  {
   "cell_type": "code",
   "execution_count": null,
   "id": "97852189-d1e9-47c1-b954-2643c1a92ce7",
   "metadata": {
    "tags": []
   },
   "outputs": [],
   "source": [
    "# Triton, N workers trial\n",
    "print(\"time\", time.time())\n",
    "pft = time.perf_counter()\n",
    "futurestriton = client.map(process_function, *workargstriton)\n",
    "resulttriton = client.gather(futurestriton)\n",
    "print(\"runtime(s)\", time.perf_counter() - pft)\n",
    "print(\"time\", time.time())"
   ]
  },
  {
   "cell_type": "code",
   "execution_count": null,
   "id": "d10ab7ff",
   "metadata": {
    "tags": []
   },
   "outputs": [],
   "source": [
    "# Triton, N workers trial long\n",
    "print(\"time\", time.time())\n",
    "pft = time.perf_counter()\n",
    "futurestlong = client.map(process_function, *workargstritonlong)\n",
    "resulttlong = client.gather(futurestlong)\n",
    "print(\"runtime(s)\", time.perf_counter() - pft)\n",
    "print(\"time\", time.time())"
   ]
  },
  {
   "cell_type": "code",
   "execution_count": null,
   "id": "4ce99067-75c5-4bf2-8935-5621356fbdd8",
   "metadata": {
    "tags": []
   },
   "outputs": [],
   "source": [
    "# Local, N workers trial\n",
    "print(\"time\", time.time())\n",
    "pfl = time.perf_counter()\n",
    "futureslocal = client.map(process_function, *workargslocal)\n",
    "resultlocal = client.gather(futureslocal)\n",
    "print(\"runtime(s)\", time.perf_counter() - pfl)\n",
    "print(\"time\", time.time())"
   ]
  },
  {
   "cell_type": "code",
   "execution_count": null,
   "id": "cf6e0095-faa4-4579-8e9a-d4ea8f75cb2c",
   "metadata": {
    "tags": []
   },
   "outputs": [],
   "source": [
    "cluster.close()"
   ]
  }
 ],
 "metadata": {
  "kernelspec": {
   "display_name": "coffea for triton",
   "language": "python",
   "name": "coffea-triton"
  },
  "language_info": {
   "codemirror_mode": {
    "name": "ipython",
    "version": 3
   },
   "file_extension": ".py",
   "mimetype": "text/x-python",
   "name": "python",
   "nbconvert_exporter": "python",
   "pygments_lexer": "ipython3",
   "version": "3.8.15"
  }
 },
 "nbformat": 4,
 "nbformat_minor": 5
}
