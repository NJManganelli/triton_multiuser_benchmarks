{
 "cells": [
  {
   "cell_type": "code",
   "execution_count": null,
   "id": "86563f20-ee9f-4950-801c-5baec864a78a",
   "metadata": {
    "tags": []
   },
   "outputs": [],
   "source": [
    "import uproot\n",
    "import awkward as ak\n",
    "import numpy as np"
   ]
  },
  {
   "cell_type": "markdown",
   "id": "1f679c40-43a7-46de-83b0-ee34ed92cfc4",
   "metadata": {},
   "source": [
    "# Generating HEP-like pseudo-data\n",
    "The function here will generate a ragged-array with several fields, representing HEP-like data for one of the ML benchmark models"
   ]
  },
  {
   "cell_type": "code",
   "execution_count": null,
   "id": "d534f0c6-c995-41f2-8518-28949357f2a6",
   "metadata": {
    "tags": []
   },
   "outputs": [],
   "source": [
    "def generate_pseudodata_from_njets(njets):\n",
    "    total_jets = np.sum(njets)    \n",
    "    points = ak.unflatten(grdn.random((total_jets, 2, 100), dtype=np.float32), njets)\n",
    "    features = ak.unflatten(grdn.random((total_jets, 5, 100), dtype=np.float32), njets)\n",
    "    mask = ak.unflatten(grdn.random((total_jets, 1, 100), dtype=np.float32), njets)\n",
    "    return ak.Array({\"points\": points,\n",
    "            \"features\": features,\n",
    "            \"mask\": mask})"
   ]
  },
  {
   "cell_type": "markdown",
   "id": "8e80d40a-5992-44da-b5bc-1b84781bc75f",
   "metadata": {},
   "source": [
    "## Writing Data to files\n",
    "HEP commonly uses the ROOT file format. ```uproot``` is a package for I/O between different file formats like ```root```, and in-memory data in the format of ```numpy``` arrays, ragged arrays (via ```awkward```), ```pandas```, etc."
   ]
  },
  {
   "cell_type": "code",
   "execution_count": null,
   "id": "72c1eee0-859d-4de2-8fb4-d80501b26011",
   "metadata": {
    "tags": []
   },
   "outputs": [],
   "source": [
    "FILE_BASE = \"../data/PseudoData_{nfile}.root\"\n",
    "N_FILES = 100\n",
    "N_EVENTS_PER_BASKET = 2_000\n",
    "N_BASKETS = 20\n",
    "\n",
    "grdn = np.random.default_rng()\n",
    "file_names = []\n",
    "\n",
    "for nfile in range(N_FILES):\n",
    "    file_name = FILE_BASE.format(nfile=nfile)\n",
    "    file = uproot.recreate(file_name, compression = uproot.ZLIB(1))\n",
    "    print(\"Writing file...\", file_name)\n",
    "    for nbasket in range(N_BASKETS):\n",
    "        grdn = np.random.default_rng([nfile, nbasket])\n",
    "        njets = ak.Array(grdn.integers(1, 10, size=N_EVENTS_PER_BASKET))\n",
    "        if nbasket == 0:\n",
    "            file[\"Events\"] = {\"Jet\": njets}\n",
    "        else:\n",
    "            file[\"Events\"].extend({\"Jet\": njets})\n",
    "    file.close()\n",
    "    file_names.append(file_name)\n",
    "        "
   ]
  },
  {
   "cell_type": "markdown",
   "id": "55c395bc-a7c1-4ff2-a5fe-d8a8d59af62d",
   "metadata": {},
   "source": [
    "## Reading back data\n",
    "\n",
    "Data can be opened again using ```uproot.open```"
   ]
  },
  {
   "cell_type": "code",
   "execution_count": null,
   "id": "d94c39e5-0a6e-4044-b597-7e6b4ecf3e26",
   "metadata": {
    "tags": []
   },
   "outputs": [],
   "source": [
    "ftest = uproot.open(\"../data/PseudoDataSeeds_99.root\")\n",
    "treetest = ftest[\"Events\"]"
   ]
  },
  {
   "cell_type": "code",
   "execution_count": null,
   "id": "285904f1-8a5a-4ee1-9265-6322d0f12055",
   "metadata": {
    "tags": []
   },
   "outputs": [],
   "source": [
    "print(ftest.keys(), treetest.keys(), treetest.num_entries)"
   ]
  }
 ],
 "metadata": {
  "kernelspec": {
   "display_name": "coffea for triton",
   "language": "python",
   "name": "coffea-triton"
  },
  "language_info": {
   "codemirror_mode": {
    "name": "ipython",
    "version": 3
   },
   "file_extension": ".py",
   "mimetype": "text/x-python",
   "name": "python",
   "nbconvert_exporter": "python",
   "pygments_lexer": "ipython3",
   "version": "3.8.15"
  }
 },
 "nbformat": 4,
 "nbformat_minor": 5
}
