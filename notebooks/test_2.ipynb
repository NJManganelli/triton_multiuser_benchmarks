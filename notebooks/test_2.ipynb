{
 "cells": [
  {
   "cell_type": "code",
   "execution_count": 1,
   "id": "04398710",
   "metadata": {},
   "outputs": [],
   "source": [
    "import os\n",
    "from distributed import Client, progress\n",
    "from lpcjobqueue import LPCCondorCluster\n",
    "import awkward as ak\n",
    "import numpy as np\n",
    "import torch\n",
    "from utils.mlbench import process_function\n",
    "import time\n",
    "import pathlib\n",
    "from datetime import datetime\n",
    "from utils.promqueries import get_all_queries\n",
    "import matplotlib.pyplot as plt"
   ]
  },
  {
   "cell_type": "code",
   "execution_count": 2,
   "id": "7e375707",
   "metadata": {},
   "outputs": [],
   "source": [
    "def create_clusters(jobs, **kwargs):\n",
    "    \n",
    "    kwargs.setdefault('cores', 1)\n",
    "    kwargs.setdefault('memory', '3GB')\n",
    "    kwargs.setdefault('disk', '2GB')\n",
    "    # by default transfer all utils and models\n",
    "    kwargs.setdefault('transfer_input_files', [f'{os.getenv(\"BASE\")}/utils', f'{os.getenv(\"BASE\")}/models'])\n",
    "    kwargs.setdefault('log_directory', None)\n",
    "    kwargs.setdefault('death_timeout', 180)\n",
    "    kwargs.setdefault('job_extra_directives', {})\n",
    "    kwargs['job_extra_directives'].update(set_default_proxy(kwargs['job_extra_directives']))\n",
    "\n",
    "    cluster = LPCCondorCluster(**kwargs)\n",
    "\n",
    "    # Scaling up the cluster\n",
    "    print(\"Generating job requests...\", end='')\n",
    "    cluster.scale(jobs)\n",
    "    print('initial jobs generated!')\n",
    "    print(\"Waiting for at least one worker...\", end='')\n",
    "    client = Client(cluster)\n",
    "    client.wait_for_workers(1)\n",
    "    print(\"workers(s) online!\")\n",
    "    print(\"Dashboard available at\", client.dashboard_link)\n",
    "    print(\"Waiting for all (%i) workers...\"%jobs, end='')\n",
    "    client.wait_for_workers(jobs)\n",
    "    print(\"Done!\")\n",
    "\n",
    "    return cluster, client\n",
    "\n",
    "def set_default_proxy(job_extra_directives):\n",
    "  \"\"\"\n",
    "  Specifying the the grid certificate proxy to be used by the worker nodes. As\n",
    "  the voms-proxy-init typically store certificates the `/tmp` directory, which is\n",
    "  not accessible to the worker nodes. The returned job_extra_directives will\n",
    "  setup the worker nodes to look for the proxy file in the users home directory.\n",
    "  This function will also scan the input proxy file to make sure it exists and is\n",
    "  valid. If the file is not found, an exception is raised with the command to\n",
    "  generate the proxy file in default location.\n",
    "  \"\"\"\n",
    "  proxyfile = ''\n",
    "  if 'x509userproxy' not in job_extra_directives:\n",
    "    proxyfile = '{0}/x509up_u{1}'.format(os.environ['HOME'], os.getuid())\n",
    "    print('Using default proxy file:', proxyfile)\n",
    "  else:\n",
    "    proxyfile = job_extra_directives['x509userproxy']\n",
    "\n",
    "  # Checking if file is a valid file\n",
    "  if not os.path.isfile(proxyfile):\n",
    "    raise Exception(f\"\"\"\n",
    "    The proxy file {proxyfile} doesn't exist! Create the default proxy using the\n",
    "    following command:\n",
    "    > voms-proxy-init --voms cms --valid 192:00 --out ${{HOME}}/x509up_u${{UID}}\n",
    "    \"\"\")\n",
    "\n",
    "  return {'x509userproxy': proxyfile}"
   ]
  },
  {
   "cell_type": "code",
   "execution_count": 9,
   "id": "b0936ddb",
   "metadata": {
    "scrolled": true
   },
   "outputs": [
    {
     "name": "stdout",
     "output_type": "stream",
     "text": [
      "Using default proxy file: /uscms/home/csavard/x509up_u51408\n",
      "Generating job requests...initial jobs generated!\n",
      "Waiting for at least one worker...workers(s) online!\n",
      "Dashboard available at http://131.225.189.102:8787/status\n",
      "Waiting for all (20) workers..."
     ]
    },
    {
     "name": "stderr",
     "output_type": "stream",
     "text": [
      "\n",
      "KeyboardInterrupt\n",
      "\n"
     ]
    }
   ],
   "source": [
    "cluster_args = {'log_directory': '/uscmst1b_scratch/lpc1/3DayLifetime/csavard/'}\n",
    "cluster, client = create_clusters(20, \n",
    "                                 **cluster_args)"
   ]
  },
  {
   "cell_type": "code",
   "execution_count": 9,
   "id": "ca780867",
   "metadata": {},
   "outputs": [],
   "source": [
    "# test if the workers have everything they need\n",
    "def test_structure(x):\n",
    "    import os\n",
    "    import sys\n",
    "    import pathlib\n",
    "    test = pathlib.Path(\"/srv/utils/\")\n",
    "    success = False\n",
    "    try:\n",
    "        from srv.utils.mlbench import SimpleWorkLog\n",
    "        success = True\n",
    "    except:\n",
    "        pass\n",
    "    success2 = False\n",
    "    try:\n",
    "        from utils.mlbench import SimpleWorkLog\n",
    "        success2 = True\n",
    "    except:\n",
    "        pass\n",
    "    success3 = False\n",
    "    try:\n",
    "        from mlbench import SimpleWorkLog\n",
    "        success3 = True\n",
    "    except:\n",
    "        pass\n",
    "    \n",
    "    return os.environ, sys.path, success, success2, success3, list(test.iterdir())\n",
    "\n",
    "def test_triton_dask(worker):\n",
    "    x = get_triton_client()\n",
    "    if x is not None:\n",
    "        return \"success\"\n",
    "    else:\n",
    "        return type(x)\n",
    "\n",
    "def print_cluster_info(cluster):\n",
    "    for key in cluster.scheduler_info.keys():\n",
    "        if key not in [\"workers\"]:\n",
    "            print(key, cluster.scheduler_info[key])\n",
    "        else:\n",
    "            print(key)\n",
    "            for address, details in cluster.scheduler_info[key].items():\n",
    "                print(\"\\t\", address)\n",
    "                maxdkey = max([len(dkey) for dkey in details])\n",
    "                for dkey, dval in details.items():\n",
    "                    diff = maxdkey - len(dkey)\n",
    "                    extras = \" \"*diff\n",
    "                    extras += \"  =\\t\"    \n",
    "                    print(\"\\t\\t\", dkey, extras, dval)\n",
    "def test_workers(x):\n",
    "    results = {}\n",
    "    try:\n",
    "        import os\n",
    "        results[\"pid\"] = os.getpid()\n",
    "    except:\n",
    "        results[\"pid\"] = False\n",
    "        \n",
    "    import socket\n",
    "    try:\n",
    "        import socket\n",
    "        results[\"hostname\"] = socket.gethostname()\n",
    "    except:\n",
    "        results[\"hostname\"] = False\n",
    "        \n",
    "    try:\n",
    "        from utils.mlbench import SimpleWorkLog\n",
    "        results[\"utils\"] = True\n",
    "    except:\n",
    "        results[\"utils\"] = False\n",
    "        \n",
    "    try:\n",
    "        from utils.mlbench import get_triton_client\n",
    "        _ = get_triton_client()\n",
    "        results[\"triton\"] = True\n",
    "    except:\n",
    "        results[\"triton\"] = False\n",
    "        \n",
    "    try:\n",
    "        from utils.mlbench import create_local_pnmodel\n",
    "        _ = create_local_pnmodel()\n",
    "        results[\"local\"] = True\n",
    "    except:\n",
    "        results[\"local\"] = False\n",
    "    \n",
    "    return results\n",
    "\n",
    "#Test the workers can perform basic functions\n",
    "test = client.gather(client.map(test_workers, range(len(cluster.workers))))"
   ]
  },
  {
   "cell_type": "code",
   "execution_count": 10,
   "id": "8b30defe",
   "metadata": {},
   "outputs": [
    {
     "data": {
      "text/plain": [
       "[{'pid': 20,\n",
       "  'hostname': 'csavard-78095945-0-cmswn2047.fnal.gov',\n",
       "  'utils': True,\n",
       "  'triton': True,\n",
       "  'local': True},\n",
       " {'pid': 21,\n",
       "  'hostname': 'csavard-78095946-0-cmswn2114.fnal.gov',\n",
       "  'utils': True,\n",
       "  'triton': True,\n",
       "  'local': True}]"
      ]
     },
     "execution_count": 10,
     "metadata": {},
     "output_type": "execute_result"
    }
   ],
   "source": [
    "test"
   ]
  },
  {
   "cell_type": "code",
   "execution_count": null,
   "id": "0c115636",
   "metadata": {
    "scrolled": true
   },
   "outputs": [],
   "source": [
    "n_workers = 20\n",
    "worker_hostnames = list(client.scheduler_info()['workers'].keys())\n",
    "\n",
    "output = np.zeros((n_workers,3))\n",
    "datetimes = []\n",
    "\n",
    "for ii in range(n_workers):\n",
    "\n",
    "    #seeds, #pseudo-events, batchsize, use triton (True/False)\n",
    "    n_files = 10*(ii+1)\n",
    "    n_jets = 50000*(ii+1) #will be split among all files\n",
    "    workargstriton = [range(n_files), [int(n_jets/n_files)]*n_files, [1024]*n_files, [True]*n_files]\n",
    "\n",
    "    # Triton, N workers trial\n",
    "    print('Running %i jets among %i files with %i workers...'%(n_jets,n_files,ii+1))\n",
    "    dt1 = datetime.now()\n",
    "    futurestriton = client.map(process_function, *workargstriton, pure=False, workers=worker_hostnames[:ii+1])\n",
    "    progress(futurestriton, notebook=False)\n",
    "    resulttriton = client.gather(futurestriton)\n",
    "    dt2 = datetime.now()\n",
    "    print('Done!')\n",
    "    \n",
    "    datetimes.append((dt1,dt2,ii+1))\n",
    "    "
   ]
  },
  {
   "cell_type": "code",
   "execution_count": 6,
   "id": "0bfef77a",
   "metadata": {},
   "outputs": [
    {
     "data": {
      "text/plain": [
       "[(datetime.datetime(2023, 4, 12, 22, 56, 16, 300043),\n",
       "  datetime.datetime(2023, 4, 12, 22, 57, 40, 723960)),\n",
       " (datetime.datetime(2023, 4, 12, 22, 57, 41, 459040),\n",
       "  datetime.datetime(2023, 4, 12, 22, 59, 15, 217925)),\n",
       " (datetime.datetime(2023, 4, 12, 22, 59, 15, 873967),\n",
       "  datetime.datetime(2023, 4, 12, 23, 1, 25, 298433)),\n",
       " (datetime.datetime(2023, 4, 12, 23, 1, 25, 928160),\n",
       "  datetime.datetime(2023, 4, 12, 23, 4, 17, 594554)),\n",
       " (datetime.datetime(2023, 4, 12, 23, 4, 18, 307498),\n",
       "  datetime.datetime(2023, 4, 12, 23, 7, 50, 903470)),\n",
       " (datetime.datetime(2023, 4, 12, 23, 7, 51, 521024),\n",
       "  datetime.datetime(2023, 4, 12, 23, 12, 5, 330520)),\n",
       " (datetime.datetime(2023, 4, 12, 23, 12, 5, 970292),\n",
       "  datetime.datetime(2023, 4, 12, 23, 17, 2, 994242)),\n",
       " (datetime.datetime(2023, 4, 12, 23, 17, 3, 722606),\n",
       "  datetime.datetime(2023, 4, 12, 23, 22, 42, 235338)),\n",
       " (datetime.datetime(2023, 4, 12, 23, 22, 43, 23140),\n",
       "  datetime.datetime(2023, 4, 12, 23, 29, 3, 241365))]"
      ]
     },
     "execution_count": 6,
     "metadata": {},
     "output_type": "execute_result"
    }
   ],
   "source": [
    "datetimes"
   ]
  },
  {
   "cell_type": "code",
   "execution_count": 51,
   "id": "c9abfd1a",
   "metadata": {
    "scrolled": true
   },
   "outputs": [],
   "source": [
    "inf = []\n",
    "que = []\n",
    "new_output = np.zeros((len(output),3))\n",
    "for (dt1,dt2) in datetimes:\n",
    "    results, queries, unique_model_versions, unique_gpu_instances = get_all_queries([(dt1,dt2)], '30s')\n",
    "    #print(results['inf_rate_net'], results['inf_rate_net'][1:-1].mean())\n",
    "    new_output[ii,0] = float(results['num_instances'][1:-1].mean())\n",
    "    new_output[ii,1] = float(results['num_instances'][1:-1].mean())\n",
    "    new_output[ii,2] = float(results['num_instances'][1:-1].mean())\n",
    "    inf.append(float(results['inf_rate_net'][1:-1].mean()))\n",
    "    que.append(float(results['inf_que_dur_net'][1:-1].mean()))\n",
    "    #new_output[ii,2] = results['num_instances'][1:-1].mean()"
   ]
  },
  {
   "cell_type": "code",
   "execution_count": 45,
   "id": "e777edc9",
   "metadata": {},
   "outputs": [
    {
     "data": {
      "text/plain": [
       "[5903.330062009301,\n",
       " 11170.75,\n",
       " 11737.400000000001,\n",
       " 11818.5,\n",
       " 11856.6,\n",
       " 11917.900000000001,\n",
       " 11954.7,\n",
       " 11905.300000000001,\n",
       " 11929.600000000002]"
      ]
     },
     "execution_count": 45,
     "metadata": {},
     "output_type": "execute_result"
    }
   ],
   "source": [
    "inf"
   ]
  },
  {
   "cell_type": "code",
   "execution_count": 52,
   "id": "2c7d99ba",
   "metadata": {},
   "outputs": [
    {
     "data": {
      "image/png": "[encoded data removed]",
      "text/plain": [
       "<Figure size 640x480 with 1 Axes>"
      ]
     },
     "metadata": {},
     "output_type": "display_data"
    }
   ],
   "source": [
    "#plt.plot(output[:,0][output[:,0]>0],output[:,1][output[:,1]>0],'o')\n",
    "plt.plot(inf,que,'o')\n",
    "#plt.plot(output[:,1][output[:,1]>0],'o')\n",
    "plt.xlabel('avg requests per 30 sec interval')\n",
    "#plt.xlabel('# workers')\n",
    "plt.ylabel('avg queue time')\n",
    "plt.show()"
   ]
  },
  {
   "cell_type": "code",
   "execution_count": 10,
   "id": "afcd9282",
   "metadata": {},
   "outputs": [],
   "source": [
    "cluster.close()\n",
    "client.close()"
   ]
  },
  {
   "cell_type": "code",
   "execution_count": null,
   "id": "38e402db",
   "metadata": {},
   "outputs": [],
   "source": []
  }
 ],
 "metadata": {
  "kernelspec": {
   "display_name": "coffea for triton",
   "language": "python",
   "name": "coffea-triton"
  },
  "language_info": {
   "codemirror_mode": {
    "name": "ipython",
    "version": 3
   },
   "file_extension": ".py",
   "mimetype": "text/x-python",
   "name": "python",
   "nbconvert_exporter": "python",
   "pygments_lexer": "ipython3",
   "version": "3.8.15"
  }
 },
 "nbformat": 4,
 "nbformat_minor": 5
}
